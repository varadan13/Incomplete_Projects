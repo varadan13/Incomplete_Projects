{
  "nbformat": 4,
  "nbformat_minor": 0,
  "metadata": {
    "colab": {
      "name": "srs-sampling-proportion.ipynb",
      "provenance": []
    },
    "kernelspec": {
      "name": "python3",
      "display_name": "Python 3"
    }
  },
  "cells": [
    {
      "cell_type": "code",
      "metadata": {
        "id": "j-0hWg9WUQ5a"
      },
      "source": [
        "import random\r\n",
        "from random import choices\r\n",
        "import pandas as pd\r\n",
        "import plotly.express as px\r\n",
        "import seaborn as sns"
      ],
      "execution_count": 1,
      "outputs": []
    },
    {
      "cell_type": "code",
      "metadata": {
        "id": "DbO4m9XjUTef"
      },
      "source": [
        "a='A'\r\n",
        "b='B'"
      ],
      "execution_count": 2,
      "outputs": []
    },
    {
      "cell_type": "code",
      "metadata": {
        "id": "k9YweT2cUcYp"
      },
      "source": [
        "number_of_a = random.randint(0, 100)\r\n",
        "number_of_b = random.randint(0, 100)"
      ],
      "execution_count": 15,
      "outputs": []
    },
    {
      "cell_type": "code",
      "metadata": {
        "id": "KnAlc_MdUjSM"
      },
      "source": [
        "a=a*number_of_a\r\n",
        "b=b*number_of_b\r\n",
        "population = a+b"
      ],
      "execution_count": 16,
      "outputs": []
    },
    {
      "cell_type": "markdown",
      "metadata": {
        "id": "3JbLAaf4lE8C"
      },
      "source": [
        ""
      ]
    },
    {
      "cell_type": "code",
      "metadata": {
        "id": "LxJoAeHTVA0X"
      },
      "source": [
        "population = list(map(str, population))"
      ],
      "execution_count": 17,
      "outputs": []
    },
    {
      "cell_type": "code",
      "metadata": {
        "id": "tXtQqasNVBqO"
      },
      "source": [
        "size_of_population = N = len(population) "
      ],
      "execution_count": 18,
      "outputs": []
    },
    {
      "cell_type": "markdown",
      "metadata": {
        "id": "EPFKBu0QYSad"
      },
      "source": [
        "- What is the proportion of population that is A?"
      ]
    },
    {
      "cell_type": "code",
      "metadata": {
        "id": "khD72_5PX9vh"
      },
      "source": [
        "Proportion_of_A = P = len([i for i in population if i=='A'])/N\r\n",
        "Q= 1-P"
      ],
      "execution_count": 19,
      "outputs": []
    },
    {
      "cell_type": "code",
      "metadata": {
        "colab": {
          "base_uri": "https://localhost:8080/"
        },
        "id": "zD3sUOdLYkj2",
        "outputId": "4989c3dc-7675-4c5f-979c-bb7a495a420d"
      },
      "source": [
        "P*100"
      ],
      "execution_count": 20,
      "outputs": [
        {
          "output_type": "execute_result",
          "data": {
            "text/plain": [
              "93.12485079971353"
            ]
          },
          "metadata": {
            "tags": []
          },
          "execution_count": 20
        }
      ]
    },
    {
      "cell_type": "markdown",
      "metadata": {
        "id": "lk8cWNvzZFu2"
      },
      "source": [
        "- So THAT MUCH percent of the population is A.   \r\n",
        "Lets estimate  \r\n",
        "\r\n"
      ]
    },
    {
      "cell_type": "markdown",
      "metadata": {
        "id": "u4zp9pwXd9iB"
      },
      "source": [
        "# Sampling without replacement"
      ]
    },
    {
      "cell_type": "code",
      "metadata": {
        "id": "pMrTlovhZid3"
      },
      "source": [
        "n = sample_size = 100\r\n",
        "sample_wor = random.sample(population,n) # python's way to sample without replacement"
      ],
      "execution_count": 21,
      "outputs": []
    },
    {
      "cell_type": "code",
      "metadata": {
        "colab": {
          "base_uri": "https://localhost:8080/"
        },
        "id": "rsqJzAF_anYe",
        "outputId": "2ae9c68b-b92a-46d1-e8ab-62602fd7b888"
      },
      "source": [
        "p = proportion_estimate = len([i for i in sample_wor if i == 'A'])/n\r\n",
        "p*100"
      ],
      "execution_count": 22,
      "outputs": [
        {
          "output_type": "execute_result",
          "data": {
            "text/plain": [
              "97.0"
            ]
          },
          "metadata": {
            "tags": []
          },
          "execution_count": 22
        }
      ]
    },
    {
      "cell_type": "code",
      "metadata": {
        "colab": {
          "base_uri": "https://localhost:8080/"
        },
        "id": "3ppZLmlQaoko",
        "outputId": "8406dc18-523d-4c89-dcfa-85f3316422fd"
      },
      "source": [
        "# SIMULATION\r\n",
        "distribution_of_p = [] #we will plot this later on.\r\n",
        "for _ in range(100000):\r\n",
        "  t=random.sample(population,n)\r\n",
        "  distribution_of_p.append(len([i for i in t if i == 'A'])/n)\r\n",
        "\r\n",
        "expectation = sum(distribution_of_p)/len(distribution_of_p)\r\n",
        "\r\n",
        "expectation*100"
      ],
      "execution_count": 23,
      "outputs": [
        {
          "output_type": "execute_result",
          "data": {
            "text/plain": [
              "93.13199999998048"
            ]
          },
          "metadata": {
            "tags": []
          },
          "execution_count": 23
        }
      ]
    },
    {
      "cell_type": "code",
      "metadata": {
        "colab": {
          "base_uri": "https://localhost:8080/",
          "height": 388
        },
        "id": "eWv3XF9pghz_",
        "outputId": "21c10560-607f-41dc-b22b-cd2cc93dd698"
      },
      "source": [
        "df = pd.DataFrame({'values of p' : distribution_of_p})\r\n",
        "sns.displot(df, x=\"values of p\")"
      ],
      "execution_count": 24,
      "outputs": [
        {
          "output_type": "execute_result",
          "data": {
            "text/plain": [
              "<seaborn.axisgrid.FacetGrid at 0x7f6874da2748>"
            ]
          },
          "metadata": {
            "tags": []
          },
          "execution_count": 24
        },
        {
          "output_type": "display_data",
          "data": {
            "image/png": "[encoded data removed]",
            "text/plain": [
              "<Figure size 360x360 with 1 Axes>"
            ]
          },
          "metadata": {
            "tags": [],
            "needs_background": "light"
          }
        }
      ]
    },
    {
      "cell_type": "code",
      "metadata": {
        "id": "_jdTx8NDja-J"
      },
      "source": [
        ""
      ],
      "execution_count": 24,
      "outputs": []
    },
    {
      "cell_type": "markdown",
      "metadata": {
        "id": "rzq0gRXXeH7p"
      },
      "source": [
        "# Sampling with replacement"
      ]
    },
    {
      "cell_type": "code",
      "metadata": {
        "id": "P8Q7PAPPcxfs"
      },
      "source": [
        "sample_wr = choices(population, k=n)   # python's way to sample without replacement"
      ],
      "execution_count": 25,
      "outputs": []
    },
    {
      "cell_type": "code",
      "metadata": {
        "colab": {
          "base_uri": "https://localhost:8080/"
        },
        "id": "cIbO1VmZet4t",
        "outputId": "2320dba2-db4c-4a3c-9cea-1a231404aa0b"
      },
      "source": [
        "p_r = proportion_estimate_for_wr_sampling = len([i for i in sample_wr if i == 'A'])/n\r\n",
        "p_r*100"
      ],
      "execution_count": 26,
      "outputs": [
        {
          "output_type": "execute_result",
          "data": {
            "text/plain": [
              "95.0"
            ]
          },
          "metadata": {
            "tags": []
          },
          "execution_count": 26
        }
      ]
    },
    {
      "cell_type": "code",
      "metadata": {
        "colab": {
          "base_uri": "https://localhost:8080/"
        },
        "id": "D9hyYMcce-IL",
        "outputId": "5ef5f58f-f3ea-44bf-fb0c-fa894730d543"
      },
      "source": [
        "# SIMULATION\r\n",
        "distribution_of_p_r = [] #we will plot this later on.\r\n",
        "for _ in range(100000):\r\n",
        "  t=choices(population,k=n)\r\n",
        "  distribution_of_p_r.append(len([i for i in t if i == 'A'])/n)\r\n",
        "\r\n",
        "expectation_wr = sum(distribution_of_p_r)/len(distribution_of_p_r)\r\n",
        "\r\n",
        "expectation*100"
      ],
      "execution_count": 27,
      "outputs": [
        {
          "output_type": "execute_result",
          "data": {
            "text/plain": [
              "93.13199999998048"
            ]
          },
          "metadata": {
            "tags": []
          },
          "execution_count": 27
        }
      ]
    },
    {
      "cell_type": "code",
      "metadata": {
        "colab": {
          "base_uri": "https://localhost:8080/",
          "height": 388
        },
        "id": "OrHfBz8Tfxtm",
        "outputId": "429dfccc-d8e0-45e1-e032-97f2844e21ae"
      },
      "source": [
        "df_1 = pd.DataFrame({'values of p' : distribution_of_p_r})\r\n",
        "sns.displot(df_1, x=\"values of p\")"
      ],
      "execution_count": 28,
      "outputs": [
        {
          "output_type": "execute_result",
          "data": {
            "text/plain": [
              "<seaborn.axisgrid.FacetGrid at 0x7f686af51f60>"
            ]
          },
          "metadata": {
            "tags": []
          },
          "execution_count": 28
        },
        {
          "output_type": "display_data",
          "data": {
            "image/png": "[encoded data removed]",
            "text/plain": [
              "<Figure size 360x360 with 1 Axes>"
            ]
          },
          "metadata": {
            "tags": [],
            "needs_background": "light"
          }
        }
      ]
    },
    {
      "cell_type": "code",
      "metadata": {
        "id": "vzNoY2rHiBJ9"
      },
      "source": [
        ""
      ],
      "execution_count": 28,
      "outputs": []
    }
  ]
}