{
  "nbformat": 4,
  "nbformat_minor": 0,
  "metadata": {
    "colab": {
      "name": "ANOVA PROJECT.ipynb",
      "provenance": []
    },
    "kernelspec": {
      "name": "python3",
      "display_name": "Python 3"
    }
  },
  "cells": [
    {
      "cell_type": "markdown",
      "metadata": {
        "id": "agCSTm8nvMjH"
      },
      "source": [
        "### Implementing One way Anova from scratch in python"
      ]
    },
    {
      "cell_type": "code",
      "metadata": {
        "id": "eFeK51wWoYaa"
      },
      "source": [
        "import pandas as pd\r\n",
        "import numpy as np\r\n",
        "import string"
      ],
      "execution_count": 1,
      "outputs": []
    },
    {
      "cell_type": "code",
      "metadata": {
        "id": "lE09V5nQ2Rsu"
      },
      "source": [
        "file = 'https://raw.githubusercontent.com/varadan13/Projects_and_Notes/main/Lecture%20Notes/Data/anova-from-scratch.csv'"
      ],
      "execution_count": 2,
      "outputs": []
    },
    {
      "cell_type": "code",
      "metadata": {
        "colab": {
          "base_uri": "https://localhost:8080/",
          "height": 206
        },
        "id": "o2zxlflQ2WPy",
        "outputId": "99be86ec-35ed-43d8-802a-20347a9a1414"
      },
      "source": [
        "df = pd.read_csv(file)\r\n",
        "df.columns\r\n",
        "df.head() "
      ],
      "execution_count": 3,
      "outputs": [
        {
          "output_type": "execute_result",
          "data": {
            "text/html": [
              "<div>\n",
              "<style scoped>\n",
              "    .dataframe tbody tr th:only-of-type {\n",
              "        vertical-align: middle;\n",
              "    }\n",
              "\n",
              "    .dataframe tbody tr th {\n",
              "        vertical-align: top;\n",
              "    }\n",
              "\n",
              "    .dataframe thead th {\n",
              "        text-align: right;\n",
              "    }\n",
              "</style>\n",
              "<table border=\"1\" class=\"dataframe\">\n",
              "  <thead>\n",
              "    <tr style=\"text-align: right;\">\n",
              "      <th></th>\n",
              "      <th>cotton_weigth</th>\n",
              "      <th>tensile_strength</th>\n",
              "    </tr>\n",
              "  </thead>\n",
              "  <tbody>\n",
              "    <tr>\n",
              "      <th>0</th>\n",
              "      <td>15</td>\n",
              "      <td>7</td>\n",
              "    </tr>\n",
              "    <tr>\n",
              "      <th>1</th>\n",
              "      <td>15</td>\n",
              "      <td>7</td>\n",
              "    </tr>\n",
              "    <tr>\n",
              "      <th>2</th>\n",
              "      <td>15</td>\n",
              "      <td>15</td>\n",
              "    </tr>\n",
              "    <tr>\n",
              "      <th>3</th>\n",
              "      <td>15</td>\n",
              "      <td>11</td>\n",
              "    </tr>\n",
              "    <tr>\n",
              "      <th>4</th>\n",
              "      <td>15</td>\n",
              "      <td>9</td>\n",
              "    </tr>\n",
              "  </tbody>\n",
              "</table>\n",
              "</div>"
            ],
            "text/plain": [
              "   cotton_weigth  tensile_strength\n",
              "0             15                 7\n",
              "1             15                 7\n",
              "2             15                15\n",
              "3             15                11\n",
              "4             15                 9"
            ]
          },
          "metadata": {
            "tags": []
          },
          "execution_count": 3
        }
      ]
    },
    {
      "cell_type": "markdown",
      "metadata": {
        "id": "IjqaSJ2PvV5p"
      },
      "source": [
        "Column names are wrongly named. Here tensile_strength holds the treatment values and cotton weigth holds factor values"
      ]
    },
    {
      "cell_type": "code",
      "metadata": {
        "id": "B459zFcaMz-K"
      },
      "source": [
        "class ANOVA:\r\n",
        "  def __init__(self,DataFrame,treatment,factor):\r\n",
        "    self.DataFrame = DataFrame\r\n",
        "    self.treatment = treatment\r\n",
        "    self.factor = factor\r\n",
        "    self.levels = np.array(self.DataFrame[self.factor].unique())\r\n",
        "    self.grand_mean = self.DataFrame[self.treatment].mean()\r\n",
        "  \r\n",
        "  def degree_of_freedom(self):\r\n",
        "    N = self.DataFrame.shape[0] -1\r\n",
        "    temp = self.levels[0]\r\n",
        "    a = np.array(self.DataFrame[self.DataFrame[self.factor]==temp][self.treatment]).shape[0] - 1\r\n",
        "    N_a = N-a        \r\n",
        "    return [N,a,N_a]\r\n",
        "  \r\n",
        "  def SS(self):\r\n",
        "    temp = []\r\n",
        "    for i in range(len(self.levels)):\r\n",
        "      temp.append(\r\n",
        "          np.mean(\r\n",
        "              \r\n",
        "              np.array(self.DataFrame[self.DataFrame[self.factor]==self.levels[i]][self.treatment]\r\n",
        "                   \r\n",
        "                   )))\r\n",
        "    temp = np.array(temp)\r\n",
        "    temp = temp - self.grand_mean\r\n",
        "    temp = temp**2\r\n",
        "    SStreatment = np.sum(temp)*5\r\n",
        "\r\n",
        "\r\n",
        "    temp2 = np.array(self.DataFrame[self.treatment])\r\n",
        "    temp2 = temp2-self.grand_mean\r\n",
        "    temp2 = temp2**2\r\n",
        "    SSt = np.sum(temp2)\r\n",
        "\r\n",
        "    SSE = SSt - SStreatment\r\n",
        "\r\n",
        "    return [SSt, SStreatment, SSE]\r\n",
        "  \r\n",
        "  def MS(self):\r\n",
        "    MSE = self.SS()[2]/self.degree_of_freedom()[2]\r\n",
        "    MStreatment = self.SS()[1]/self.degree_of_freedom()[1]\r\n",
        "\r\n",
        "    return [MSE,MStreatment]\r\n",
        "\r\n",
        "  def F_cal(self):\r\n",
        "    return self.MS()[1]/self.MS()[0]\r\n",
        "  \r\n",
        "  def anova(self):\r\n",
        "    t = string.Template(\"\"\"\r\n",
        "         ====================================================================================\r\n",
        "         | Source of Variation | Sum of Squares | Degrees of freedom | Mean Square | F_value|\r\n",
        "         ====================================================================================\r\n",
        "         |treatment effect     |$ssr               $a                  $MSt          $f     \r\n",
        "         |error                |$sse               $Na                 $MSe                 \r\n",
        "         |total                |$sst               $N                                       \r\n",
        "         ====================================================================================\"\"\")\r\n",
        "    \r\n",
        "    values = {'ssr':round(self.SS()[1],1),'a':self.degree_of_freedom()[1],\r\n",
        "          'MSt':round(self.MS()[1],1),'f':round(self.F_cal(),2),\r\n",
        "          'sse':round(self.SS()[2],1),'Na':self.degree_of_freedom()[2],\r\n",
        "          'MSe':round(self.MS()[0],1),'sst':round(self.SS()[0],1),\r\n",
        "          'N':self.degree_of_freedom()[0]}\r\n",
        "\r\n",
        "    print(t.substitute(values))\r\n",
        "\r\n"
      ],
      "execution_count": 4,
      "outputs": []
    },
    {
      "cell_type": "code",
      "metadata": {
        "id": "ln7exCaSZhdJ"
      },
      "source": [
        "trial = ANOVA(df,'tensile_strength','cotton_weigth')"
      ],
      "execution_count": 7,
      "outputs": []
    },
    {
      "cell_type": "code",
      "metadata": {
        "colab": {
          "base_uri": "https://localhost:8080/"
        },
        "id": "KvtJwrz_ZwNa",
        "outputId": "318fd642-c49f-424a-a11e-87f923f2e63e"
      },
      "source": [
        "trial.anova()"
      ],
      "execution_count": 8,
      "outputs": [
        {
          "output_type": "stream",
          "text": [
            "\n",
            "         ====================================================================================\n",
            "         | Source of Variation | Sum of Squares | Degrees of freedom | Mean Square | F_value|\n",
            "         ====================================================================================\n",
            "         |treatment effect     |475.8               4                  118.9          14.76     \n",
            "         |error                |161.2               20                 8.1                 \n",
            "         |total                |637.0               24                                       \n",
            "         ====================================================================================\n"
          ],
          "name": "stdout"
        }
      ]
    },
    {
      "cell_type": "code",
      "metadata": {
        "id": "mlq-QbTzfIMM"
      },
      "source": [
        ""
      ],
      "execution_count": null,
      "outputs": []
    }
  ]
}