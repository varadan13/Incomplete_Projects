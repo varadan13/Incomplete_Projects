{
 "cells": [
  {
   "cell_type": "markdown",
   "metadata": {},
   "source": [
    "1.   What are the two ways to obtain data?\n",
    "- Sample Surveys where the infomation is collected for a fraction of total population.\n",
    "- Complete Enumeration where the entire population infomation is collected."
   ]
  },
  {
   "cell_type": "markdown",
   "metadata": {},
   "source": [
    "2. What is a Sampling Unit?\n",
    "- An element or a group of elements on which observations can be taken is called a sampling unit.  \n",
    "- The objective of the survey helps in determinig the definition of sampling unit.\n",
    "- Example, if the objective is to determine the total income of all the persons in the household then the sampling unit is household or if the objective is to determine the income of any particular person in the household then the sampling unit is the income of the person in the household."
   ]
  },
  {
   "cell_type": "markdown",
   "metadata": {},
   "source": [
    "3. What is a population?  \n",
    "- Collection of all the sampling units in a given region at a particular point of time or a particular period is called population.\n",
    "- Example, if the objective is to survey the medical facilities in a hospital through the patients then the population is total number of patients registered in the hospital during the time period of survey.\n",
    "- Population Size is denoted by the letter N.\n",
    "- Population size can be finite or infinite."
   ]
  },
  {
   "cell_type": "markdown",
   "metadata": {},
   "source": [
    "4. What is a Representative Sample?  \n",
    "\n",
    "- A sample that has all the salient features of its population.\n",
    "- Ideally every sample that we must collect should be a representative sample. \n",
    "- Example, If a population has 30% males and 70% females then the ideal sample or representative sample must have the same property. "
   ]
  },
  {
   "cell_type": "markdown",
   "metadata": {},
   "source": [
    "5. What is a sampling frame? \n",
    "- List of all the units of the populations to be surveyed constitutes the sampling frame"
   ]
  },
  {
   "cell_type": "markdown",
   "metadata": {},
   "source": [
    "6. How to ensure the representativeness of the sample?  \n",
    "- Random sampling \n",
    "- Non random sampling or purposive sampling  \n",
    "- Quota Sampling"
   ]
  },
  {
   "cell_type": "markdown",
   "metadata": {},
   "source": [
    "7. What is random sampling?  \n",
    "- The selection of units from the sampling frame is governed by the laws of probability"
   ]
  },
  {
   "cell_type": "markdown",
   "metadata": {},
   "source": [
    "8. What is Quota Sampling?  \n",
    "- The sampling units are continuously selected until a predetermined number of units with the characteristics under study are piked up\n",
    "- For example, in order to conduct an experiment to rare type of disease, the surveyis continued till the required number of patients with disease are collected"
   ]
  },
  {
   "cell_type": "markdown",
   "metadata": {},
   "source": [
    "9. What are the principal steps in Conducting a Survey?  \n",
    "- Define objective of survey \n",
    "- Decide and choose population to be sampled.\n",
    "- Decide the data to be collected\n",
    "- Decide the degree of precision required\n",
    "- Decide the method of measurement\n",
    "- Decide the sampling frame\n",
    "- Decide the scheme of selection of sample\n",
    "- Conduct the Pre Test\n",
    "- Organise the feild work\n",
    "- Decide how to present the data and analysis of data\n"
   ]
  }
 ],
 "metadata": {
  "kernelspec": {
   "display_name": "R",
   "language": "R",
   "name": "ir"
  },
  "language_info": {
   "codemirror_mode": "r",
   "file_extension": ".r",
   "mimetype": "text/x-r-source",
   "name": "R",
   "pygments_lexer": "r",
   "version": "4.0.2"
  }
 },
 "nbformat": 4,
 "nbformat_minor": 4
}
