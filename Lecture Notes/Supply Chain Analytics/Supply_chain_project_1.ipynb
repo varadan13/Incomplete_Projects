{
  "nbformat": 4,
  "nbformat_minor": 0,
  "metadata": {
    "colab": {
      "name": "Supply-chain.ipynb",
      "provenance": []
    },
    "kernelspec": {
      "name": "python3",
      "display_name": "Python 3"
    }
  },
  "cells": [
    {
      "cell_type": "markdown",
      "metadata": {
        "id": "sOxpQ3_Hytnp"
      },
      "source": [
        "# Using Machine Learning to Solve Problems in supply chain analytics : A Case Study\r\n"
      ]
    },
    {
      "cell_type": "markdown",
      "metadata": {
        "id": "P4aOnSxSy_Lk"
      },
      "source": [
        "Yes, enterprises are definitely leveraging the transformative powers of 'Machine Learning' in their operations especially in Supply Chain Analytics. Here, in this case-study the objective is to understand how. A simplified setting is used to get a sense of first approximation. "
      ]
    },
    {
      "cell_type": "markdown",
      "metadata": {
        "id": "cmowreLa3dp2"
      },
      "source": [
        "A vendor supplies different materials with wide unit prices and total purchase order values. Sometimes a few parts from suppliers fail to pass the quality checks, but the defect percentage doesn’t seem to be following a trend. If the defective piece percentage predicted is below the threshold level, then a quality check will not be performed. The threshold is defect piece percentage = **0.4%**. Lets use two ML algorithm to try to predict defect piece percentage. "
      ]
    },
    {
      "cell_type": "markdown",
      "metadata": {
        "id": "U53mMlpx4dIX"
      },
      "source": [
        "### Import all the required python modules"
      ]
    },
    {
      "cell_type": "code",
      "metadata": {
        "id": "blDS7Z2GT7Fv"
      },
      "source": [
        "import pandas as pd  # for data manipulation  \r\n",
        "from sklearn.tree import DecisionTreeRegressor # to construct a decision tree classifier\r\n",
        "from sklearn.preprocessing import StandardScaler \r\n",
        "from sklearn.svm import SVR # to construct support vector regressor"
      ],
      "execution_count": 1,
      "outputs": []
    },
    {
      "cell_type": "markdown",
      "metadata": {
        "id": "-tkmsPEO5HoS"
      },
      "source": [
        "### Load the data into a DataFrame."
      ]
    },
    {
      "cell_type": "code",
      "metadata": {
        "id": "eCT6WC5uQxVS"
      },
      "source": [
        "file = 'https://raw.githubusercontent.com/varadan13/Projects_and_Notes/main/Lecture%20Notes/Data/supply-chain-prj1.csv'"
      ],
      "execution_count": 2,
      "outputs": []
    },
    {
      "cell_type": "code",
      "metadata": {
        "id": "-IHg9UipT4ud"
      },
      "source": [
        "df_train = pd.read_csv(file) # Dataframe containing training data"
      ],
      "execution_count": 3,
      "outputs": []
    },
    {
      "cell_type": "code",
      "metadata": {
        "colab": {
          "base_uri": "https://localhost:8080/"
        },
        "id": "8CBACjxcv9Pb",
        "outputId": "a31c04ed-20e2-46a0-a580-e5b2632b8701"
      },
      "source": [
        "temp = {}\r\n",
        "\r\n",
        "values = [320453,223,32,0]\r\n",
        "\r\n",
        "keys = list(df_train.columns)\r\n",
        "\r\n",
        "for i in range(len(values)):\r\n",
        "  temp[keys[i]]=values[i]\r\n",
        "temp"
      ],
      "execution_count": 4,
      "outputs": [
        {
          "output_type": "execute_result",
          "data": {
            "text/plain": [
              "{'PO_sent_in_advance_in_days': 32,\n",
              " 'Purchase_order_quantity': 223,\n",
              " 'Purchase_order_value_in_GBP': 320453,\n",
              " 'defect_percentage': 0}"
            ]
          },
          "metadata": {
            "tags": []
          },
          "execution_count": 4
        }
      ]
    },
    {
      "cell_type": "code",
      "metadata": {
        "id": "1ZJbXYhtv4BF"
      },
      "source": [
        "df_test = pd.DataFrame(temp,index=[1]) # Dataframe containing test data"
      ],
      "execution_count": 5,
      "outputs": []
    },
    {
      "cell_type": "code",
      "metadata": {
        "colab": {
          "base_uri": "https://localhost:8080/"
        },
        "id": "w-77PaH9UBLC",
        "outputId": "74d19167-2a1c-4dbf-99b6-67b7345a2796"
      },
      "source": [
        "train_independent= df_train.drop(['defect_percentage'], axis=1)\r\n",
        "\r\n",
        "sc_X = StandardScaler()\r\n",
        "\r\n",
        "X_train=sc_X.fit_transform(train_independent.values) \r\n",
        "\r\n",
        "X_train"
      ],
      "execution_count": 6,
      "outputs": [
        {
          "output_type": "execute_result",
          "data": {
            "text/plain": [
              "array([[ 1.21330572, -0.62355965,  0.92280707],\n",
              "       [-0.83446102,  0.1726844 , -0.95257504],\n",
              "       [-0.30360281,  1.16510451, -0.74419925],\n",
              "       [ 0.68972084,  0.53041723,  0.40186759],\n",
              "       [ 0.72201803,  0.0226674 ,  0.71443128],\n",
              "       [-1.10709262,  0.55926665, -0.01488398],\n",
              "       [-1.16198615, -0.73318745,  0.92280707],\n",
              "       [-0.04073985,  0.9112296 ,  0.81861917],\n",
              "       [-0.58234943, -0.16773878,  0.61024338],\n",
              "       [-1.09597159,  1.28627209,  0.71443128],\n",
              "       [ 0.87319319, -2.01410179, -1.89026609],\n",
              "       [-1.27322109, -0.38699439, -0.64001135],\n",
              "       [ 1.57817409,  1.07278636,  1.02699496],\n",
              "       [ 1.32301268, -1.79484618, -1.89026609]])"
            ]
          },
          "metadata": {
            "tags": []
          },
          "execution_count": 6
        }
      ]
    },
    {
      "cell_type": "code",
      "metadata": {
        "colab": {
          "base_uri": "https://localhost:8080/"
        },
        "id": "t3t0dfE3r_Cb",
        "outputId": "2703b6b6-825c-4c9c-fbc7-74a75dbb6bcb"
      },
      "source": [
        "y_train = train_dependent=df_train['defect_percentage'].copy() \r\n",
        "\r\n",
        "y_train.head()"
      ],
      "execution_count": 7,
      "outputs": [
        {
          "output_type": "execute_result",
          "data": {
            "text/plain": [
              "0    1.43\n",
              "1    0.34\n",
              "2    1.57\n",
              "3    1.06\n",
              "4    1.37\n",
              "Name: defect_percentage, dtype: float64"
            ]
          },
          "metadata": {
            "tags": []
          },
          "execution_count": 7
        }
      ]
    },
    {
      "cell_type": "code",
      "metadata": {
        "colab": {
          "base_uri": "https://localhost:8080/",
          "height": 80
        },
        "id": "HgmzWCGDxY5F",
        "outputId": "976fd3ef-d04d-4e9b-ae74-cc855a4ef5d0"
      },
      "source": [
        "X_test = df_test.drop(['defect_percentage'], axis=1)\r\n",
        "\r\n",
        "X_test"
      ],
      "execution_count": 8,
      "outputs": [
        {
          "output_type": "execute_result",
          "data": {
            "text/html": [
              "<div>\n",
              "<style scoped>\n",
              "    .dataframe tbody tr th:only-of-type {\n",
              "        vertical-align: middle;\n",
              "    }\n",
              "\n",
              "    .dataframe tbody tr th {\n",
              "        vertical-align: top;\n",
              "    }\n",
              "\n",
              "    .dataframe thead th {\n",
              "        text-align: right;\n",
              "    }\n",
              "</style>\n",
              "<table border=\"1\" class=\"dataframe\">\n",
              "  <thead>\n",
              "    <tr style=\"text-align: right;\">\n",
              "      <th></th>\n",
              "      <th>Purchase_order_value_in_GBP</th>\n",
              "      <th>Purchase_order_quantity</th>\n",
              "      <th>PO_sent_in_advance_in_days</th>\n",
              "    </tr>\n",
              "  </thead>\n",
              "  <tbody>\n",
              "    <tr>\n",
              "      <th>1</th>\n",
              "      <td>320453</td>\n",
              "      <td>223</td>\n",
              "      <td>32</td>\n",
              "    </tr>\n",
              "  </tbody>\n",
              "</table>\n",
              "</div>"
            ],
            "text/plain": [
              "   Purchase_order_value_in_GBP  ...  PO_sent_in_advance_in_days\n",
              "1                       320453  ...                          32\n",
              "\n",
              "[1 rows x 3 columns]"
            ]
          },
          "metadata": {
            "tags": []
          },
          "execution_count": 8
        }
      ]
    },
    {
      "cell_type": "markdown",
      "metadata": {
        "id": "Jz0wcamx5mZk"
      },
      "source": [
        "### Constructing classifier and training it using training data."
      ]
    },
    {
      "cell_type": "markdown",
      "metadata": {
        "id": "I_ffELTK5wep"
      },
      "source": [
        "Part 1 : Using **Support Vector Regressor** to predict the defect piece percentage."
      ]
    },
    {
      "cell_type": "markdown",
      "metadata": {
        "id": "xUEBh2fX6Fz3"
      },
      "source": [
        "Why is Support Vector Regressor suitable here? \r\n",
        "!Find answer"
      ]
    },
    {
      "cell_type": "code",
      "metadata": {
        "colab": {
          "base_uri": "https://localhost:8080/"
        },
        "id": "LNLKAbTIstPl",
        "outputId": "42ac64bf-8ff7-4a76-efbd-4381f4716ace"
      },
      "source": [
        "svm_reg = SVR(kernel=\"linear\", C=1)\r\n",
        "\r\n",
        "svm_reg.fit(X_train, y_train)"
      ],
      "execution_count": 9,
      "outputs": [
        {
          "output_type": "execute_result",
          "data": {
            "text/plain": [
              "SVR(C=1, cache_size=200, coef0=0.0, degree=3, epsilon=0.1, gamma='scale',\n",
              "    kernel='linear', max_iter=-1, shrinking=True, tol=0.001, verbose=False)"
            ]
          },
          "metadata": {
            "tags": []
          },
          "execution_count": 9
        }
      ]
    },
    {
      "cell_type": "code",
      "metadata": {
        "colab": {
          "base_uri": "https://localhost:8080/"
        },
        "id": "eWQKtk-ZtNJW",
        "outputId": "9aebe574-9a09-41de-9ea1-dfde00ddcc87"
      },
      "source": [
        "predictions = svm_reg.predict(X_test)\r\n",
        "\r\n",
        "predictions # there is a bug I must fix it."
      ],
      "execution_count": 10,
      "outputs": [
        {
          "output_type": "execute_result",
          "data": {
            "text/plain": [
              "array([146293.25100403])"
            ]
          },
          "metadata": {
            "tags": []
          },
          "execution_count": 10
        }
      ]
    },
    {
      "cell_type": "markdown",
      "metadata": {
        "id": "lf6ynR5F6RJy"
      },
      "source": [
        "### Part 1 : Using **Decision Tree Regressor** to predict the defect piece percentage."
      ]
    },
    {
      "cell_type": "code",
      "metadata": {
        "colab": {
          "base_uri": "https://localhost:8080/"
        },
        "id": "edoS_DfTvs_5",
        "outputId": "d1630e14-218b-486b-f639-b9bd1283366d"
      },
      "source": [
        "tree_reg = DecisionTreeRegressor()\r\n",
        "\r\n",
        "tree_reg.fit(X_train, y_train)\r\n",
        "\r\n",
        "decision_predictions = tree_reg.predict(X_test)\r\n",
        "\r\n",
        "decision_predictions"
      ],
      "execution_count": 11,
      "outputs": [
        {
          "output_type": "execute_result",
          "data": {
            "text/plain": [
              "array([1.03])"
            ]
          },
          "metadata": {
            "tags": []
          },
          "execution_count": 11
        }
      ]
    },
    {
      "cell_type": "markdown",
      "metadata": {
        "id": "8kuJ-Kc46kUk"
      },
      "source": [
        "### Conclusion\r\n",
        "Used the Decision Tree Learning and Support Vector Model algorithm to predict the defect percentage quantity in future deliveries and based on its quality plan the inspection for specific vendor deliveries."
      ]
    },
    {
      "cell_type": "code",
      "metadata": {
        "id": "JI-unLkd6rwi"
      },
      "source": [
        ""
      ],
      "execution_count": null,
      "outputs": []
    }
  ]
}