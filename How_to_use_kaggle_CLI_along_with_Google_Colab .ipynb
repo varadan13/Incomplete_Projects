{
  "nbformat": 4,
  "nbformat_minor": 0,
  "metadata": {
    "colab": {
      "name": "How to use kaggle CLI along with Google Colab?.ipynb",
      "provenance": []
    },
    "kernelspec": {
      "name": "python3",
      "display_name": "Python 3"
    }
  },
  "cells": [
    {
      "cell_type": "markdown",
      "metadata": {
        "id": "q3DV0XxdiPhJ"
      },
      "source": [
        "### How to use kaggle CLI along with Google Colab?   \r\n",
        "\r\n",
        "---\r\n",
        "\r\n"
      ]
    },
    {
      "cell_type": "markdown",
      "metadata": {
        "id": "CG3LuLwCg8Wr"
      },
      "source": [
        "- First, upgrade the kaggle API versions.   \r\n",
        "> The underlying problem: both py2 and py3 packages are installed in colab, and (for historical reasons) the py2 packages are installed second. kaggle is a wrapper installed by the kaggle python package; since py2 is installed second, the py2 wrapper is in /usr/local/bin, and happens to be an older version.  \r\n",
        "\r\n",
        "- Mount the google drive. \r\n",
        "***\r\n",
        "- **What happens if upgrade not done?**  \r\n",
        "> When using commands this warning is recieved 'Warning: Looks like you're using an outdated API Version, please consider updating'. "
      ]
    },
    {
      "cell_type": "code",
      "metadata": {
        "id": "mJFVA1hJg2tz"
      },
      "source": [
        "!pip install --upgrade --force-reinstall --no-deps kaggle #updating the Kaggle API version"
      ],
      "execution_count": null,
      "outputs": []
    },
    {
      "cell_type": "code",
      "metadata": {
        "id": "7uh1KPG2mGSr"
      },
      "source": [
        "from google.colab import drive  #mounting the drive\r\n",
        "drive.mount('/content/drive')"
      ],
      "execution_count": null,
      "outputs": []
    },
    {
      "cell_type": "markdown",
      "metadata": {
        "id": "RoROq3qdhHvB"
      },
      "source": [
        "### Setting up the environment variable"
      ]
    },
    {
      "cell_type": "code",
      "metadata": {
        "id": "qSL2PshbZqwK"
      },
      "source": [
        "import os\r\n",
        "os.environ['KAGGLE_CONFIG_DIR'] = \"/content/drive/MyDrive/kaggle\""
      ],
      "execution_count": 3,
      "outputs": []
    },
    {
      "cell_type": "markdown",
      "metadata": {
        "id": "blXAiherhZjK"
      },
      "source": [
        "### Changing the working directory to the folder where kaggle json is present in the drive"
      ]
    },
    {
      "cell_type": "code",
      "metadata": {
        "colab": {
          "base_uri": "https://localhost:8080/"
        },
        "id": "JKMNIBtYchsQ",
        "outputId": "9f38921e-d888-46ef-d2bf-13f69c4b72bf"
      },
      "source": [
        "%cd /content/drive/MyDrive/"
      ],
      "execution_count": 4,
      "outputs": [
        {
          "output_type": "stream",
          "text": [
            "/content/drive/MyDrive\n"
          ],
          "name": "stdout"
        }
      ]
    },
    {
      "cell_type": "markdown",
      "metadata": {
        "id": "-iBX_SiRhx4E"
      },
      "source": [
        "For new kaggle projects create directories in kaggle directory and change the working directory using the above command. "
      ]
    },
    {
      "cell_type": "markdown",
      "metadata": {
        "id": "9YqWFi1_h-W6"
      },
      "source": [
        "### Go to kaggle click copy api command and run it"
      ]
    },
    {
      "cell_type": "code",
      "metadata": {
        "colab": {
          "base_uri": "https://localhost:8080/"
        },
        "id": "LPRzKmSCd9ru",
        "outputId": "cd3cb07b-1bd8-4403-eca0-19d72490b6f9"
      },
      "source": [
        "!kaggle kernels pull aikhmelnytskyy/resnet-wavenet-my-best-single-model-ensemble # this pulls the python notebook from kaggle"
      ],
      "execution_count": 5,
      "outputs": [
        {
          "output_type": "stream",
          "text": [
            "Source code downloaded to /content/drive/MyDrive/resnet-wavenet-my-best-single-model-ensemble.ipynb\n"
          ],
          "name": "stdout"
        }
      ]
    },
    {
      "cell_type": "code",
      "metadata": {
        "colab": {
          "base_uri": "https://localhost:8080/"
        },
        "id": "hgckMyUPe9XL",
        "outputId": "6c0be784-2d70-4ac1-d1e7-b722b68275c2"
      },
      "source": [
        "!kaggle datasets download -d andrewmvd/heart-failure-clinical-data # this downloads the datasets from kaggle to the cwd"
      ],
      "execution_count": 6,
      "outputs": [
        {
          "output_type": "stream",
          "text": [
            "Downloading heart-failure-clinical-data.zip to /content/drive/MyDrive\n",
            "\r  0% 0.00/3.97k [00:00<?, ?B/s]\n",
            "\r100% 3.97k/3.97k [00:00<00:00, 850kB/s]\n"
          ],
          "name": "stdout"
        }
      ]
    },
    {
      "cell_type": "code",
      "metadata": {
        "colab": {
          "base_uri": "https://localhost:8080/"
        },
        "id": "JVm07sPLgX4C",
        "outputId": "c05a8449-e3c6-4f5c-b145-9b312c18a44d"
      },
      "source": [
        "!unzip \\*.zip  && rm *.zip # this command unzips the data and delete the old zip file"
      ],
      "execution_count": 7,
      "outputs": [
        {
          "output_type": "stream",
          "text": [
            "Archive:  heart-failure-clinical-data.zip\n",
            "  inflating: heart_failure_clinical_records_dataset.csv  \n"
          ],
          "name": "stdout"
        }
      ]
    },
    {
      "cell_type": "code",
      "metadata": {
        "id": "pR2Ws_PMgt8o"
      },
      "source": [
        ""
      ],
      "execution_count": null,
      "outputs": []
    }
  ]
}